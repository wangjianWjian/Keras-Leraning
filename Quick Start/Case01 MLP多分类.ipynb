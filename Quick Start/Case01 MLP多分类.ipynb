{
 "cells": [
  {
   "cell_type": "markdown",
   "metadata": {},
   "source": [
    "## 多层感知机 + Softmax 多分类"
   ]
  },
  {
   "cell_type": "code",
   "execution_count": 1,
   "metadata": {},
   "outputs": [],
   "source": [
    "from tensorflow.keras.layers import *\n",
    "from tensorflow.keras.utils import plot_model, to_categorical\n",
    "from tensorflow.keras.models import Model, Sequential\n",
    "from tensorflow.keras.optimizers import SGD\n",
    "import tensorflow as tf\n",
    "import numpy as np"
   ]
  },
  {
   "cell_type": "markdown",
   "metadata": {},
   "source": [
    "## 导入数据"
   ]
  },
  {
   "cell_type": "code",
   "execution_count": 2,
   "metadata": {},
   "outputs": [],
   "source": [
    "x_train = np.random.random((1000, 20))\n",
    "y_train = to_categorical(np.random.randint(10, size=(1000, 1)), num_classes=10)\n",
    "x_test = np.random.random((100, 20))\n",
    "y_test = to_categorical(np.random.randint(10, size=(100, 1)), num_classes=10)"
   ]
  },
  {
   "cell_type": "markdown",
   "metadata": {},
   "source": [
    "## 模型主体"
   ]
  },
  {
   "cell_type": "markdown",
   "metadata": {},
   "source": [
    "Sequential() 是栈式模型，相当于一层一层堆叠上去的，也是简单的结构"
   ]
  },
  {
   "cell_type": "code",
   "execution_count": 3,
   "metadata": {},
   "outputs": [],
   "source": [
    "model = Sequential()\n",
    "model.add(Dense(64, activation=\"relu\", input_shape=(20,)))    # x样本是1000个20维的向量\n",
    "model.add(Dropout(0.5))\n",
    "model.add(Dense(64, activation=\"relu\"))\n",
    "model.add(Dropout(0.5))\n",
    "model.add(Dense(10, activation=\"softmax\"))"
   ]
  },
  {
   "cell_type": "markdown",
   "metadata": {},
   "source": [
    "## 设置优化器"
   ]
  },
  {
   "cell_type": "code",
   "execution_count": 4,
   "metadata": {},
   "outputs": [],
   "source": [
    "sgd = SGD(learning_rate=0.01, decay=1e-6, momentum=0.9, nesterov=True)"
   ]
  },
  {
   "cell_type": "markdown",
   "metadata": {},
   "source": [
    "## 编译模型"
   ]
  },
  {
   "cell_type": "code",
   "execution_count": 5,
   "metadata": {},
   "outputs": [],
   "source": [
    "model.compile(\n",
    "    loss=\"categorical_crossentropy\",     # 多分类损失函数\n",
    "    optimizer=sgd,\n",
    "    metrics=[\"accuracy\"]                 # 评价指标使用分类准确率\n",
    ")"
   ]
  },
  {
   "cell_type": "markdown",
   "metadata": {},
   "source": [
    "## 训练模型"
   ]
  },
  {
   "cell_type": "markdown",
   "metadata": {},
   "source": [
    "epochs：训练次数  \n",
    "batch_size：单次训练中每次送入的样本量，本例中样本总量为1000，那么单次训练就需要将1000个样本分成8次（1000<8*128）送入模型\n",
    "\n",
    "batch_size值在简单问题上越大越好，因为可以有效节省时间，值大小受限于GPU显存。  \n",
    "但在复杂问题上这个值会有对模型性能产生不小影响，在Quick Start阶段只需要有这个印象就行，不建议新手花费大量时间研究batch_size大小"
   ]
  },
  {
   "cell_type": "code",
   "execution_count": 6,
   "metadata": {},
   "outputs": [
    {
     "name": "stdout",
     "output_type": "stream",
     "text": [
      "Epoch 1/10\n",
      "8/8 [==============================] - 1s 5ms/step - loss: 2.4538 - accuracy: 0.0958\n",
      "Epoch 2/10\n",
      "8/8 [==============================] - 0s 4ms/step - loss: 2.3830 - accuracy: 0.1015\n",
      "Epoch 3/10\n",
      "8/8 [==============================] - 0s 5ms/step - loss: 2.3300 - accuracy: 0.1139\n",
      "Epoch 4/10\n",
      "8/8 [==============================] - 0s 5ms/step - loss: 2.3407 - accuracy: 0.1002\n",
      "Epoch 5/10\n",
      "8/8 [==============================] - 0s 5ms/step - loss: 2.3139 - accuracy: 0.1311\n",
      "Epoch 6/10\n",
      "8/8 [==============================] - 0s 5ms/step - loss: 2.2981 - accuracy: 0.0996\n",
      "Epoch 7/10\n",
      "8/8 [==============================] - 0s 5ms/step - loss: 2.3143 - accuracy: 0.1099\n",
      "Epoch 8/10\n",
      "8/8 [==============================] - 0s 5ms/step - loss: 2.3100 - accuracy: 0.1074\n",
      "Epoch 9/10\n",
      "8/8 [==============================] - 0s 5ms/step - loss: 2.3069 - accuracy: 0.1136\n",
      "Epoch 10/10\n",
      "8/8 [==============================] - 0s 5ms/step - loss: 2.3030 - accuracy: 0.1007\n"
     ]
    },
    {
     "data": {
      "text/plain": [
       "<tensorflow.python.keras.callbacks.History at 0x1d4006317c8>"
      ]
     },
     "execution_count": 6,
     "metadata": {},
     "output_type": "execute_result"
    }
   ],
   "source": [
    "model.fit(x_train, y_train, epochs=10, batch_size=128)"
   ]
  },
  {
   "cell_type": "markdown",
   "metadata": {},
   "source": [
    "模型分类准确率低是因为 x_train 和 y_train 都是随机生成的，所以无需在意"
   ]
  },
  {
   "cell_type": "markdown",
   "metadata": {},
   "source": [
    "## 评价模型"
   ]
  },
  {
   "cell_type": "code",
   "execution_count": 7,
   "metadata": {},
   "outputs": [
    {
     "name": "stdout",
     "output_type": "stream",
     "text": [
      "1/1 [==============================] - 0s 152ms/step - loss: 2.3034 - accuracy: 0.0800\n",
      "acc=0.08, loss=2.30\n"
     ]
    }
   ],
   "source": [
    "score = model.evaluate(x_test, y_test, batch_size=128)\n",
    "print(\"acc={:.2f}, loss={:.2f}\".format(score[1], score[0]))\n"
   ]
  }
 ],
 "metadata": {
  "kernelspec": {
   "display_name": "Python 3",
   "language": "python",
   "name": "python3"
  },
  "language_info": {
   "codemirror_mode": {
    "name": "ipython",
    "version": 3
   },
   "file_extension": ".py",
   "mimetype": "text/x-python",
   "name": "python",
   "nbconvert_exporter": "python",
   "pygments_lexer": "ipython3",
   "version": "3.7.5"
  }
 },
 "nbformat": 4,
 "nbformat_minor": 4
}
