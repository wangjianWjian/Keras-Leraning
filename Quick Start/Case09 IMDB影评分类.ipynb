{
 "cells": [
  {
   "cell_type": "markdown",
   "metadata": {},
   "source": [
    "## IMDB 电影评价"
   ]
  },
  {
   "cell_type": "markdown",
   "metadata": {},
   "source": [
    "从该案例开始引入序列数据的回归及分类问题，这是作为自然语言处理NLP的先导部分"
   ]
  },
  {
   "cell_type": "markdown",
   "metadata": {},
   "source": [
    "作为刚开始学习的人而言，不建议一上来就接触真实地由字符组成的序列，因为这些序列会引入编码问题，容易吓退很多初学者。  \n",
    "\n",
    "我希望你们在Quick Start阶段不要被NLP和有序序列吓到，把它当作简单的分类和回归问题看即可。  \n",
    "实际上Keras直接加载这些IMDB数据给你返回的x_train,x_test是一系列数字构成的向量，而y_train,y_test是0和1构成的向量。  \n",
    "\n",
    "在后期NLP文件夹下将使用真实语句进行处理。"
   ]
  },
  {
   "cell_type": "code",
   "execution_count": 1,
   "metadata": {},
   "outputs": [],
   "source": [
    "from tensorflow import keras\n",
    "from tensorflow.keras.layers import *\n",
    "from tensorflow.keras.models import *\n",
    "from tensorflow.keras.utils import to_categorical, plot_model\n",
    "from tensorflow.keras.datasets import imdb\n",
    "from tensorflow.keras.preprocessing import sequence\n",
    "\n",
    "import numpy as np\n",
    "import matplotlib.pyplot as plt"
   ]
  },
  {
   "cell_type": "markdown",
   "metadata": {},
   "source": [
    "## 载入数据"
   ]
  },
  {
   "cell_type": "code",
   "execution_count": 2,
   "metadata": {},
   "outputs": [
    {
     "name": "stderr",
     "output_type": "stream",
     "text": [
      "<string>:6: VisibleDeprecationWarning: Creating an ndarray from ragged nested sequences (which is a list-or-tuple of lists-or-tuples-or ndarrays with different lengths or shapes) is deprecated. If you meant to do this, you must specify 'dtype=object' when creating the ndarray\n",
      "c:\\users\\lucks\\.conda\\envs\\lucks\\lib\\site-packages\\tensorflow\\python\\keras\\datasets\\imdb.py:159: VisibleDeprecationWarning: Creating an ndarray from ragged nested sequences (which is a list-or-tuple of lists-or-tuples-or ndarrays with different lengths or shapes) is deprecated. If you meant to do this, you must specify 'dtype=object' when creating the ndarray\n",
      "  x_train, y_train = np.array(xs[:idx]), np.array(labels[:idx])\n",
      "c:\\users\\lucks\\.conda\\envs\\lucks\\lib\\site-packages\\tensorflow\\python\\keras\\datasets\\imdb.py:160: VisibleDeprecationWarning: Creating an ndarray from ragged nested sequences (which is a list-or-tuple of lists-or-tuples-or ndarrays with different lengths or shapes) is deprecated. If you meant to do this, you must specify 'dtype=object' when creating the ndarray\n",
      "  x_test, y_test = np.array(xs[idx:]), np.array(labels[idx:])\n"
     ]
    }
   ],
   "source": [
    "(x_train, y_train), (_, _) = imdb.load_data()"
   ]
  },
  {
   "cell_type": "markdown",
   "metadata": {},
   "source": [
    "初学可以忽略这些警告"
   ]
  },
  {
   "cell_type": "markdown",
   "metadata": {},
   "source": [
    "#### 获得字符串中最大值"
   ]
  },
  {
   "cell_type": "code",
   "execution_count": 3,
   "metadata": {},
   "outputs": [],
   "source": [
    "vocabulary_size = -1\n",
    "\n",
    "for seq in x_train:\n",
    "    max_index = max(seq)\n",
    "    if max_index > vocabulary_size:\n",
    "        vocabulary_size = max_index\n",
    "\n",
    "vocabulary_size += 1      # 这里记住一定要+1，因为需要给编码成0的字符留一个位置\n",
    "\n",
    "max_len = 200             # 只选择前300个字符作为这句话"
   ]
  },
  {
   "cell_type": "markdown",
   "metadata": {},
   "source": [
    "该数据集中出现了88325种字符，所有评论最短的有11个字符，最长的有2494个字符\n",
    "\n",
    "用这种方式载入数据集可以直接获得字典化好的向量，这对初学者而言很友好。目前先忽略警告  \n",
    "\n",
    "但一定要有一个概念：这样的载入方式在NLP处理种是非常粗糙的，这里只是为了引入和教学"
   ]
  },
  {
   "cell_type": "code",
   "execution_count": 4,
   "metadata": {},
   "outputs": [],
   "source": [
    "x_train = sequence.pad_sequences(x_train, maxlen=max_len)"
   ]
  },
  {
   "cell_type": "markdown",
   "metadata": {},
   "source": [
    "## 构建模型"
   ]
  },
  {
   "cell_type": "markdown",
   "metadata": {},
   "source": [
    "尽管有很多博客在处理序列数据的时候直接使用Embedding函数，然后在函数内部的input_length参数中定义输入序列的长度。  \n",
    "\n",
    "但是，我对所有人的要求是输入层必须明确到Input上，这样做有如下几个优点：\n",
    "* 1.可以让读者快速了解输入的形状，提升代码的可读性。\n",
    "* 2.能够应对输入共享。"
   ]
  },
  {
   "cell_type": "code",
   "execution_count": 5,
   "metadata": {},
   "outputs": [],
   "source": [
    "input_layer = Input(shape=(max_len))\n",
    "embedding_layer = Embedding(output_dim=300, input_dim=vocabulary_size)(input_layer)\n",
    "conv_1 = Conv1D(64, 3, activation='relu')(embedding_layer)\n",
    "maxpool_1 = MaxPooling1D()(conv_1)\n",
    "flatten = Flatten()(maxpool_1)\n",
    "dense_1 = Dense(32, activation='relu')(flatten)\n",
    "dense_2 = Dense(1, activation='sigmoid')(dense_1)"
   ]
  },
  {
   "cell_type": "markdown",
   "metadata": {},
   "source": [
    "* Embedding: 这个操作在MLP中很常见，目前只需要知道如何使用即可\n",
    "* Conv1D:    图像卷积使用的是Conv2D，那么对于一个序列而言其卷积应该是Conv1D  \n",
    "\n",
    "后面的操作目前和图像处理的一致"
   ]
  },
  {
   "cell_type": "code",
   "execution_count": 6,
   "metadata": {},
   "outputs": [],
   "source": [
    "model = Model(inputs=input_layer, outputs=dense_2)"
   ]
  },
  {
   "cell_type": "markdown",
   "metadata": {},
   "source": [
    "## 编译模型"
   ]
  },
  {
   "cell_type": "code",
   "execution_count": 7,
   "metadata": {},
   "outputs": [],
   "source": [
    "model.compile(loss='binary_crossentropy', metrics='accuracy', optimizer='rmsprop')"
   ]
  },
  {
   "cell_type": "markdown",
   "metadata": {},
   "source": [
    "## 训练"
   ]
  },
  {
   "cell_type": "code",
   "execution_count": 8,
   "metadata": {},
   "outputs": [
    {
     "name": "stdout",
     "output_type": "stream",
     "text": [
      "Epoch 1/5\n",
      "49/49 [==============================] - 10s 178ms/step - loss: 0.6626 - accuracy: 0.5650\n",
      "Epoch 2/5\n",
      "49/49 [==============================] - 9s 183ms/step - loss: 0.2890 - accuracy: 0.8840\n",
      "Epoch 3/5\n",
      "49/49 [==============================] - 8s 161ms/step - loss: 0.1578 - accuracy: 0.9422\n",
      "Epoch 4/5\n",
      "49/49 [==============================] - 8s 161ms/step - loss: 0.0956 - accuracy: 0.9678\n",
      "Epoch 5/5\n",
      "49/49 [==============================] - 8s 160ms/step - loss: 0.0643 - accuracy: 0.9783\n"
     ]
    },
    {
     "data": {
      "text/plain": [
       "<tensorflow.python.keras.callbacks.History at 0x1c29e4f5f88>"
      ]
     },
     "execution_count": 8,
     "metadata": {},
     "output_type": "execute_result"
    }
   ],
   "source": [
    "model.fit(x_train, y_train, epochs=5, verbose=1, batch_size=512)"
   ]
  },
  {
   "cell_type": "markdown",
   "metadata": {},
   "source": [
    "看吧，自然语言处理也没有那么吓人，整体流程和图像网络没有多大差别。  \n",
    "\n",
    "我不喜欢一开始就将词编码、Embedding、词向量这些概念拿出来秀技术，用一堆色彩丰富的图来描绘这些操作。  \n",
    "\n",
    "事实上，大多数情况下的神经网络都没有想象中那么离奇，有很多人学完图像处理就卡在了NLP上，实际上两者的差距主要集中在预处理阶段。  \n",
    "\n",
    "路漫漫其修远兮，吾将上下而求索，望诸君共勉"
   ]
  },
  {
   "cell_type": "code",
   "execution_count": 9,
   "metadata": {},
   "outputs": [
    {
     "data": {
      "image/png": "[encoded data removed]",
      "text/plain": [
       "<IPython.core.display.Image object>"
      ]
     },
     "execution_count": 9,
     "metadata": {},
     "output_type": "execute_result"
    }
   ],
   "source": [
    "plot_model(model, show_shapes=True)"
   ]
  }
 ],
 "metadata": {
  "kernelspec": {
   "display_name": "Python 3",
   "language": "python",
   "name": "python3"
  },
  "language_info": {
   "codemirror_mode": {
    "name": "ipython",
    "version": 3
   },
   "file_extension": ".py",
   "mimetype": "text/x-python",
   "name": "python",
   "nbconvert_exporter": "python",
   "pygments_lexer": "ipython3",
   "version": "3.7.5"
  }
 },
 "nbformat": 4,
 "nbformat_minor": 4
}
