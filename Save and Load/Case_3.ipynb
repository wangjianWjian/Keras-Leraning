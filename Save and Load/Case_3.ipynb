{
 "cells": [
  {
   "cell_type": "markdown",
   "metadata": {},
   "source": [
    "# 案例三（胶囊网络实操）"
   ]
  },
  {
   "cell_type": "code",
   "execution_count": 1,
   "metadata": {},
   "outputs": [],
   "source": [
    "from tensorflow.keras import layers\n",
    "from tensorflow.keras import activations\n",
    "from tensorflow.keras.layers import *\n",
    "from tensorflow.keras.utils import plot_model, CustomObjectScope\n",
    "from tensorflow.keras import utils\n",
    "from tensorflow.keras.datasets import cifar10, mnist\n",
    "from tensorflow.keras.models import load_model, save_model, Sequential, Model\n",
    "import tensorflow.keras.backend as K\n",
    "import tensorflow as tf\n",
    "from tensorflow import keras\n",
    "import numpy as np\n",
    "\n",
    "import os"
   ]
  },
  {
   "cell_type": "markdown",
   "metadata": {},
   "source": [
    "## 设置参数 & 加载数据"
   ]
  },
  {
   "cell_type": "code",
   "execution_count": 2,
   "metadata": {},
   "outputs": [],
   "source": [
    "batch_size = 512\n",
    "num_classes = 10\n",
    "img_rows, img_cols = 28, 28\n",
    "\n",
    "(x_train, y_train), (x_test, y_test) = mnist.load_data()\n",
    "x_train = x_train.reshape(x_train.shape[0], img_rows, img_cols, 1)\n",
    "x_test = x_test.reshape(x_test.shape[0], img_rows, img_cols, 1)\n",
    "\n",
    "x_train = x_train.astype('float32')\n",
    "x_test = x_test.astype('float32')\n",
    "x_train /= 255\n",
    "x_test /= 255\n",
    "y_train = utils.to_categorical(y_train, num_classes)\n",
    "y_test = utils.to_categorical(y_test, num_classes)\n",
    "\n",
    "#准备自定义的测试样本\n",
    "#对测试集重新排序并拼接到原来测试集，就构成了新的测试集，每张图片有两个不同数字\n",
    "idx = list(range(0, len(x_test)))\n",
    "np.random.shuffle(idx)\n",
    "X_test = np.concatenate([x_test, x_test[idx]], 1)\n",
    "Y_test = np.vstack([y_test.argmax(1), y_test[idx].argmax(1)]).T\n",
    "X_test = X_test[Y_test[:,0] != Y_test[:,1]]    #确保两个数字不一样\n",
    "Y_test = Y_test[Y_test[:,0] != Y_test[:,1]]\n",
    "Y_test.sort(axis=1)                            #排一下序，因为只比较集合，不比较顺序"
   ]
  },
  {
   "cell_type": "markdown",
   "metadata": {},
   "source": [
    "## 定义 激活函数 & 损失函数"
   ]
  },
  {
   "cell_type": "code",
   "execution_count": 3,
   "metadata": {},
   "outputs": [],
   "source": [
    "def squash(x, axis=-1):\n",
    "    s_squared_norm = K.sum(K.square(x), axis, keepdims=True) + K.epsilon()\n",
    "    scale = K.sqrt(s_squared_norm)/ (0.5 + s_squared_norm)\n",
    "    return scale * x\n",
    "\n",
    "def softmax(x, axis=-1):\n",
    "    ex = K.exp(x - K.max(x, axis=axis, keepdims=True))\n",
    "    return ex/K.sum(ex, axis=axis, keepdims=True)\n",
    "\n",
    "def capsule_loss(y_true, y_pred):\n",
    "    return y_true*K.relu(0.9-y_pred)**2 + 0.25*(1-y_true)*K.relu(y_pred-0.1)**2"
   ]
  },
  {
   "cell_type": "markdown",
   "metadata": {},
   "source": [
    "## 定义网络"
   ]
  },
  {
   "cell_type": "code",
   "execution_count": 4,
   "metadata": {},
   "outputs": [],
   "source": [
    "class Capsule(layers.Layer):\n",
    "    def __init__(self, num_capsule, dim_capsule, routings=3, share_weights=True, activation='squash', **kwargs):\n",
    "        super(Capsule, self).__init__(**kwargs)\n",
    "        self.num_capsule = num_capsule\n",
    "        self.dim_capsule = dim_capsule\n",
    "        self.routings = routings\n",
    "        self.share_weights = share_weights\n",
    "        if activation == 'squash':\n",
    "            self.activation = squash\n",
    "        else:\n",
    "            self.activation = activations.get(activation)\n",
    "\n",
    "    def build(self, input_shape):\n",
    "        super(Capsule, self).build(input_shape)\n",
    "        input_dim_capsule = input_shape[-1]\n",
    "        if self.share_weights:\n",
    "            self.W = self.add_weight(name='capsule_kernel',\n",
    "                                     shape=(1, input_dim_capsule,\n",
    "                                            self.num_capsule * self.dim_capsule),\n",
    "                                     initializer='glorot_uniform',\n",
    "                                     trainable=True)\n",
    "        else:\n",
    "            input_num_capsule = input_shape[-2]\n",
    "            self.W = self.add_weight(name='capsule_kernel',\n",
    "                                     shape=(input_num_capsule,\n",
    "                                            input_dim_capsule,\n",
    "                                            self.num_capsule * self.dim_capsule),\n",
    "                                     initializer='glorot_uniform',\n",
    "                                     trainable=True)\n",
    "\n",
    "    def call(self, u_vecs):\n",
    "        if self.share_weights:\n",
    "            u_hat_vecs = K.conv1d(u_vecs, self.W)\n",
    "        else:\n",
    "            u_hat_vecs = K.local_conv1d(u_vecs, self.W, [1], [1])\n",
    "        batch_size = K.shape(u_vecs)[0]\n",
    "        input_num_capsule = K.shape(u_vecs)[1]\n",
    "        u_hat_vecs = K.reshape(u_hat_vecs, (batch_size, input_num_capsule,\n",
    "                                            self.num_capsule, self.dim_capsule))\n",
    "        u_hat_vecs = K.permute_dimensions(u_hat_vecs, (0, 2, 1, 3))\n",
    "        # u_hat_vecs.shape = [None, num_capsule, input_num_capsule, dim_capsule]\n",
    "\n",
    "        b = K.zeros_like(u_hat_vecs[:,:,:,0]) #shape = [None, num_capsule, input_num_capsule]\n",
    "        for i in range(self.routings):\n",
    "            c = softmax(b, 1)\n",
    "            # o = K.batch_dot(c, u_hat_vecs, [2, 2])\n",
    "            o = tf.einsum('bin,binj->bij', c, u_hat_vecs)\n",
    "            if K.backend() == 'theano':\n",
    "                o = K.sum(o, axis=1)\n",
    "            if i < self.routings - 1:\n",
    "                o = K.l2_normalize(o, -1)\n",
    "                # b = K.batch_dot(o, u_hat_vecs, [2, 3])\n",
    "                b = tf.einsum('bij,binj->bin', o, u_hat_vecs)\n",
    "                if K.backend() == 'theano':\n",
    "                    b = K.sum(b, axis=1)\n",
    "        return self.activation(o)\n",
    "\n",
    "    def compute_output_shape(self, input_shape):\n",
    "        return (None, self.num_capsule, self.dim_capsule)\n",
    "    \n",
    "    def get_config(self):\n",
    "        config = super(Capsule, self).get_config()\n",
    "        config.update({\"num_capsule\":self.num_capsule,\n",
    "                      \"dim_capsule\":self.dim_capsule,\n",
    "                      \"routings\":self.routings,\n",
    "                      \"share_weights\":self.share_weights,\n",
    "                      \"activation\":self.activation})\n",
    "        return config"
   ]
  },
  {
   "cell_type": "markdown",
   "metadata": {},
   "source": [
    "## 搭建CNN+Capsule分类模型"
   ]
  },
  {
   "cell_type": "code",
   "execution_count": 5,
   "metadata": {},
   "outputs": [],
   "source": [
    "input_image = Input(shape=(None,None,1))\n",
    "cnn = Conv2D(64, (3, 3), activation='relu')(input_image)\n",
    "cnn = Conv2D(64, (3, 3), activation='relu')(cnn)\n",
    "cnn = AveragePooling2D((2,2))(cnn)\n",
    "cnn = Conv2D(128, (3, 3), activation='relu')(cnn)\n",
    "cnn = Conv2D(128, (3, 3), activation='relu')(cnn)\n",
    "cnn = Reshape((-1, 128))(cnn)\n",
    "capsule = Capsule(10, 16, 3, True)(cnn)\n",
    "output = Lambda(lambda x: K.sqrt(K.sum(K.square(x), 2)), output_shape=(10,))(capsule)\n",
    "\n",
    "model = Model(inputs=input_image, outputs=output)\n",
    "model.compile(# loss=lambda y_true,y_pred: y_true*K.relu(0.9-y_pred)**2 + 0.25*(1-y_true)*K.relu(y_pred-0.1)**2,\n",
    "              loss=capsule_loss,            # 直接传入函数句柄使用\n",
    "              optimizer='adam',\n",
    "              metrics=['accuracy'])"
   ]
  },
  {
   "cell_type": "markdown",
   "metadata": {},
   "source": [
    "## 训练模型"
   ]
  },
  {
   "cell_type": "code",
   "execution_count": null,
   "metadata": {},
   "outputs": [
    {
     "name": "stdout",
     "output_type": "stream",
     "text": [
      "Epoch 1/2\n",
      "118/118 [==============================] - 18s 125ms/step - loss: 0.0396 - accuracy: 0.3866 - val_loss: 0.0085 - val_accuracy: 0.9364\n",
      "Epoch 2/2\n",
      " 44/118 [==========>...................] - ETA: 8s - loss: 0.0079 - accuracy: 0.9394"
     ]
    }
   ],
   "source": [
    "model.fit(x_train, y_train,\n",
    "          batch_size=batch_size,\n",
    "          epochs=2,\n",
    "          verbose=1,\n",
    "          validation_data=(x_test, y_test))"
   ]
  },
  {
   "cell_type": "markdown",
   "metadata": {},
   "source": [
    "## 使用模型"
   ]
  },
  {
   "cell_type": "code",
   "execution_count": null,
   "metadata": {},
   "outputs": [],
   "source": [
    "Y_pred = model.predict(X_test) #用模型进行预测\n",
    "greater = np.sort(Y_pred, axis=1)[:,-2] > 0.5 #判断预测结果是否大于0.5\n",
    "Y_pred = Y_pred.argsort()[:,-2:] #取最高分数的两个类别\n",
    "Y_pred.sort(axis=1) #排序，因为只比较集合\n",
    "\n",
    "acc = 1.*(np.prod(Y_pred == Y_test, axis=1)).sum()/len(X_test)\n",
    "print ('CNN+Capsule，不考虑置信度的准确率为：%s'%acc)\n",
    "acc = 1.*(np.prod(Y_pred == Y_test, axis=1)*greater).sum()/len(X_test)\n",
    "print ('CNN+Capsule，考虑置信度的准确率为：%s'%acc)"
   ]
  },
  {
   "cell_type": "markdown",
   "metadata": {},
   "source": [
    "## 保存模型"
   ]
  },
  {
   "cell_type": "code",
   "execution_count": null,
   "metadata": {},
   "outputs": [],
   "source": [
    "model.save('Capsule.h5')"
   ]
  },
  {
   "cell_type": "markdown",
   "metadata": {},
   "source": [
    "## 加载模型"
   ]
  },
  {
   "cell_type": "code",
   "execution_count": null,
   "metadata": {},
   "outputs": [],
   "source": [
    "new_model = load_model('Capsule.h5', custom_objects={\"Capsule\":Capsule,\n",
    "                                                     \"squash\":squash,\n",
    "                                                     \"softmax\":softmax,\n",
    "                                                     \"capsule_loss\":capsule_loss})"
   ]
  },
  {
   "cell_type": "markdown",
   "metadata": {},
   "source": [
    "## 使用模型"
   ]
  },
  {
   "cell_type": "code",
   "execution_count": null,
   "metadata": {},
   "outputs": [],
   "source": [
    "new_model.evaluate(x_test, y_test)"
   ]
  }
 ],
 "metadata": {
  "kernelspec": {
   "display_name": "Python 3",
   "language": "python",
   "name": "python3"
  },
  "language_info": {
   "codemirror_mode": {
    "name": "ipython",
    "version": 3
   },
   "file_extension": ".py",
   "mimetype": "text/x-python",
   "name": "python",
   "nbconvert_exporter": "python",
   "pygments_lexer": "ipython3",
   "version": "3.7.5"
  }
 },
 "nbformat": 4,
 "nbformat_minor": 4
}
