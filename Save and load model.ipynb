{
 "cells": [
  {
   "cell_type": "code",
   "execution_count": 1,
   "metadata": {},
   "outputs": [],
   "source": [
    "from tensorflow.keras import layers\n",
    "from tensorflow.keras import activations\n",
    "from tensorflow.keras.layers import * \n",
    "from tensorflow.keras.utils import plot_model, CustomObjectScope\n",
    "from tensorflow.keras import utils\n",
    "from tensorflow.keras.datasets import cifar10, mnist\n",
    "from tensorflow.keras.models import load_model, save_model, Sequential, Model\n",
    "import tensorflow.keras.backend as K\n",
    "import tensorflow as tf\n",
    "from tensorflow import keras\n",
    "import numpy as np\n",
    "\n",
    "import matplotlib.pyplot as plt\n",
    "import os"
   ]
  },
  {
   "cell_type": "code",
   "execution_count": 2,
   "metadata": {},
   "outputs": [],
   "source": [
    "class ActivityRegularizationLayer(layers.Layer):\n",
    "    def __init__(self, rate=1e-2 ,**kwargs):\n",
    "        super(ActivityRegularizationLayer, self).__init__(**kwargs)\n",
    "        self.rate = rate\n",
    "        \n",
    "    def call(self, inputs):\n",
    "        self.add_loss(self.rate * tf.reduce_sum(inputs))\n",
    "        return inputs\n",
    "    \n",
    "    def get_config(self):\n",
    "        config = super(ActivityRegularizationLayer, self).get_config()\n",
    "        config.update({\"rate\":self.rate})\n",
    "        return config"
   ]
  },
  {
   "cell_type": "code",
   "execution_count": 6,
   "metadata": {},
   "outputs": [],
   "source": [
    "class OuterLayer(layers.Layer):\n",
    "    def __init__(self, **kwargs):\n",
    "        super(OuterLayer, self).__init__(**kwargs)\n",
    "    \n",
    "    def call(self, inputs):\n",
    "        self.activity_reg = ActivityRegularizationLayer(1e-2)\n",
    "        return self.activity_reg(inputs)\n",
    "    \n",
    "    def get_config(self):\n",
    "        return super(OuterLayer, self).get_config()"
   ]
  },
  {
   "cell_type": "code",
   "execution_count": 13,
   "metadata": {},
   "outputs": [],
   "source": [
    "class OuterLayerWithKernelRegularizer(layers.Layer):\n",
    "    def __init__(self, **kwargs):\n",
    "        super(OuterLayerWithKernelRegularizer, self).__init__(**kwargs)\n",
    "        self.dense = Dense(32, kernel_regularizer=tf.keras.regularizers.l2(1e-3))\n",
    "        \n",
    "    def call(self, inputs):\n",
    "        return self.dense(inputs)\n",
    "    \n",
    "    def get_config(self):\n",
    "        return super(OuterLayerWithKernelRegularizer, self).get_config()"
   ]
  },
  {
   "cell_type": "code",
   "execution_count": 14,
   "metadata": {},
   "outputs": [
    {
     "name": "stdout",
     "output_type": "stream",
     "text": [
      "[<tf.Tensor: shape=(), dtype=float32, numpy=0.0020365117>]\n"
     ]
    }
   ],
   "source": [
    "layer = OuterLayerWithKernelRegularizer()\n",
    "_ = layer(tf.zeros((1,1)))\n",
    "print(layer.losses)"
   ]
  },
  {
   "cell_type": "code",
   "execution_count": null,
   "metadata": {},
   "outputs": [],
   "source": []
  }
 ],
 "metadata": {
  "kernelspec": {
   "display_name": "Python 3",
   "language": "python",
   "name": "python3"
  },
  "language_info": {
   "codemirror_mode": {
    "name": "ipython",
    "version": 3
   },
   "file_extension": ".py",
   "mimetype": "text/x-python",
   "name": "python",
   "nbconvert_exporter": "python",
   "pygments_lexer": "ipython3",
   "version": "3.7.5"
  }
 },
 "nbformat": 4,
 "nbformat_minor": 4
}
